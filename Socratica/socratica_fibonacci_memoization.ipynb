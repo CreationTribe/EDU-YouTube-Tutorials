{
 "cells": [
  {
   "cell_type": "markdown",
   "metadata": {
    "collapsed": true,
    "pycharm": {
     "name": "#%% md\n"
    }
   },
   "source": [
    "# Socratica\n",
    "## Recursion, the Fibonacci Sequence and Memoization || Python Tutorial || Learn Python Programming\n",
    "[Socratica Tutorial on YouTube](https://www.youtube.com/watch?v=Qk0zUZW-U_M)"
   ]
  },
  {
   "cell_type": "markdown",
   "source": [
    "### using a dict cache"
   ],
   "metadata": {
    "collapsed": false,
    "pycharm": {
     "name": "#%% md\n"
    }
   }
  },
  {
   "cell_type": "code",
   "execution_count": 4,
   "outputs": [
    {
     "name": "stdout",
     "output_type": "stream",
     "text": [
      "1 : 1\n",
      "2 : 1\n",
      "3 : 2\n",
      "4 : 3\n",
      "5 : 5\n",
      "6 : 8\n",
      "7 : 13\n",
      "8 : 21\n",
      "9 : 34\n",
      "10 : 55\n"
     ]
    }
   ],
   "source": [
    "fibonacci_cache = {}\n",
    "\n",
    "def fibonacci(n):\n",
    "    if n in fibonacci_cache:\n",
    "        return fibonacci_cache[n]\n",
    "\n",
    "    if n == 1:\n",
    "        value = 1\n",
    "    elif n == 2:\n",
    "        value = 1\n",
    "    elif n > 2:\n",
    "        value = fibonacci(n-1) + fibonacci(n-2)\n",
    "\n",
    "    fibonacci_cache[n] = value\n",
    "    return value\n",
    "\n",
    "# for n in range(1, 1001):\n",
    "for n in range(1, 11):\n",
    "    print(n, \":\", fibonacci(n))"
   ],
   "metadata": {
    "collapsed": false,
    "pycharm": {
     "name": "#%%\n"
    }
   }
  },
  {
   "cell_type": "markdown",
   "source": [
    "### using LRU Cache (faster)"
   ],
   "metadata": {
    "collapsed": false,
    "pycharm": {
     "name": "#%% md\n"
    }
   }
  },
  {
   "cell_type": "code",
   "execution_count": 6,
   "outputs": [
    {
     "name": "stdout",
     "output_type": "stream",
     "text": [
      "1: 1\n",
      "2: 1\n",
      "3: 2\n",
      "4: 3\n",
      "5: 5\n",
      "6: 8\n",
      "7: 13\n",
      "8: 21\n",
      "9: 34\n",
      "10: 55\n"
     ]
    }
   ],
   "source": [
    "from functools import lru_cache\n",
    "\n",
    "@lru_cache(maxsize=1000)\n",
    "def fibonacci(n):\n",
    "\n",
    "    if type(n) != int or n < 1:\n",
    "        raise TypeError(\"Must be a positive integer.\")\n",
    "\n",
    "    if n == 1:\n",
    "        return 1\n",
    "    elif n == 2:\n",
    "        return 1\n",
    "    elif n > 2:\n",
    "        return fibonacci(n-1) + fibonacci(n-2)\n",
    "\n",
    "for n in range(1, 11):\n",
    "    print(f'{n}: {fibonacci(n)}')"
   ],
   "metadata": {
    "collapsed": false,
    "pycharm": {
     "name": "#%%\n"
    }
   }
  },
  {
   "cell_type": "code",
   "execution_count": 9,
   "outputs": [
    {
     "name": "stdout",
     "output_type": "stream",
     "text": [
      "89/55: 1.6181818181818182\n",
      "144/89: 1.6179775280898876\n",
      "233/144: 1.6180555555555556\n",
      "377/233: 1.6180257510729614\n",
      "610/377: 1.6180371352785146\n",
      "987/610: 1.618032786885246\n",
      "1597/987: 1.618034447821682\n",
      "2584/1597: 1.6180338134001253\n",
      "4181/2584: 1.618034055727554\n",
      "6765/4181: 1.6180339631667064\n"
     ]
    }
   ],
   "source": [
    "# determine ratio between fibi's numz\n",
    "for n in range(10, 20):\n",
    "    print(f'{fibonacci(n+1)}/{fibonacci(n)}: {fibonacci(n+1) / fibonacci(n)}')"
   ],
   "metadata": {
    "collapsed": false,
    "pycharm": {
     "name": "#%%\n"
    }
   }
  },
  {
   "cell_type": "markdown",
   "source": [
    "### Socratica says, \"huh, lookumz thar - themz be themz gruldem' rap shidoz!\"\n",
    "pssst: that means \"golden ratio"
   ],
   "metadata": {
    "collapsed": false,
    "pycharm": {
     "name": "#%% md\n"
    }
   }
  },
  {
   "cell_type": "code",
   "execution_count": null,
   "outputs": [],
   "source": [],
   "metadata": {
    "collapsed": false,
    "pycharm": {
     "name": "#%%\n"
    }
   }
  }
 ],
 "metadata": {
  "kernelspec": {
   "display_name": "Python 3",
   "language": "python",
   "name": "python3"
  },
  "language_info": {
   "codemirror_mode": {
    "name": "ipython",
    "version": 2
   },
   "file_extension": ".py",
   "mimetype": "text/x-python",
   "name": "python",
   "nbconvert_exporter": "python",
   "pygments_lexer": "ipython2",
   "version": "2.7.6"
  }
 },
 "nbformat": 4,
 "nbformat_minor": 0
}