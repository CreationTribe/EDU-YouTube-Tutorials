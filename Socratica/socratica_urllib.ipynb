{
 "cells": [
  {
   "cell_type": "markdown",
   "metadata": {
    "collapsed": true,
    "pycharm": {
     "name": "#%% md\n"
    }
   },
   "source": [
    "# Socratica\n",
    "## Urllib - GET Requests || Python Tutorial || Learn Python Programming\n",
    "[Socratica Tutorial on YouTube](https://www.youtube.com/watch?v=LosIGgon_KM)"
   ]
  },
  {
   "cell_type": "markdown",
   "source": [
    "### URI Anatomy\n",
    "\n",
    "https://en.wikipedia.org/wiki/URL?key=value&life=42#History\n",
    "\n",
    "Protocol: http / https / ftp / ssh / etc.\n",
    "Host: en.wikipedia.org\n",
    "Port: http=80 / https=443\n",
    "Path: wiki/URL\n",
    "Querystring: key=value&life=42\n",
    "Fragment: #History\n",
    "\n",
    "### urllib\n",
    " - request: open URLs\n",
    " - response: (used internally)\n",
    " - error: request exceptions\n",
    " - parse: useful URL functions\n",
    " - robotparser: parse robot.txt files"
   ],
   "metadata": {
    "collapsed": false
   }
  },
  {
   "cell_type": "code",
   "execution_count": 2,
   "outputs": [
    {
     "data": {
      "text/plain": "['RequestMethods',\n '__all__',\n '__builtins__',\n '__cached__',\n '__doc__',\n '__file__',\n '__loader__',\n '__name__',\n '__package__',\n '__spec__',\n 'absolute_import',\n 'encode_multipart_formdata',\n 'urlencode']"
     },
     "execution_count": 2,
     "metadata": {},
     "output_type": "execute_result"
    }
   ],
   "source": [
    "from urllib3 import request\n",
    "\n",
    "dir(request)"
   ],
   "metadata": {
    "collapsed": false,
    "pycharm": {
     "name": "#%%\n"
    }
   }
  },
  {
   "cell_type": "code",
   "execution_count": 3,
   "outputs": [
    {
     "data": {
      "text/plain": "['AbstractBasicAuthHandler',\n 'AbstractDigestAuthHandler',\n 'AbstractHTTPHandler',\n 'BaseHandler',\n 'CacheFTPHandler',\n 'ContentTooShortError',\n 'DataHandler',\n 'FTPHandler',\n 'FancyURLopener',\n 'FileHandler',\n 'HTTPBasicAuthHandler',\n 'HTTPCookieProcessor',\n 'HTTPDefaultErrorHandler',\n 'HTTPDigestAuthHandler',\n 'HTTPError',\n 'HTTPErrorProcessor',\n 'HTTPHandler',\n 'HTTPPasswordMgr',\n 'HTTPPasswordMgrWithDefaultRealm',\n 'HTTPPasswordMgrWithPriorAuth',\n 'HTTPRedirectHandler',\n 'HTTPSHandler',\n 'MAXFTPCACHE',\n 'OpenerDirector',\n 'ProxyBasicAuthHandler',\n 'ProxyDigestAuthHandler',\n 'ProxyHandler',\n 'Request',\n 'URLError',\n 'URLopener',\n 'UnknownHandler',\n '__all__',\n '__builtins__',\n '__cached__',\n '__doc__',\n '__file__',\n '__loader__',\n '__name__',\n '__package__',\n '__spec__',\n '__version__',\n '_cut_port_re',\n '_ftperrors',\n '_have_ssl',\n '_localhost',\n '_noheaders',\n '_opener',\n '_parse_proxy',\n '_proxy_bypass_macosx_sysconf',\n '_randombytes',\n '_safe_gethostbyname',\n '_splitattr',\n '_splithost',\n '_splitpasswd',\n '_splitport',\n '_splitquery',\n '_splittag',\n '_splittype',\n '_splituser',\n '_splitvalue',\n '_thishost',\n '_to_bytes',\n '_url_tempfiles',\n 'addclosehook',\n 'addinfourl',\n 'base64',\n 'bisect',\n 'build_opener',\n 'contextlib',\n 'email',\n 'ftpcache',\n 'ftperrors',\n 'ftpwrapper',\n 'getproxies',\n 'getproxies_environment',\n 'hashlib',\n 'http',\n 'install_opener',\n 'io',\n 'localhost',\n 'noheaders',\n 'os',\n 'parse_http_list',\n 'parse_keqv_list',\n 'pathname2url',\n 'posixpath',\n 'proxy_bypass',\n 'proxy_bypass_environment',\n 'quote',\n 're',\n 'request_host',\n 'socket',\n 'ssl',\n 'string',\n 'sys',\n 'tempfile',\n 'thishost',\n 'time',\n 'unquote',\n 'unquote_to_bytes',\n 'unwrap',\n 'url2pathname',\n 'urlcleanup',\n 'urljoin',\n 'urlopen',\n 'urlparse',\n 'urlretrieve',\n 'urlsplit',\n 'urlunparse',\n 'warnings']"
     },
     "execution_count": 3,
     "metadata": {},
     "output_type": "execute_result"
    }
   ],
   "source": [
    "from urllib import request\n",
    "\n",
    "dir(request)"
   ],
   "metadata": {
    "collapsed": false,
    "pycharm": {
     "name": "#%%\n"
    }
   }
  },
  {
   "cell_type": "code",
   "execution_count": 4,
   "outputs": [
    {
     "data": {
      "text/plain": "http.client.HTTPResponse"
     },
     "execution_count": 4,
     "metadata": {},
     "output_type": "execute_result"
    }
   ],
   "source": [
    "response = request.urlopen(\"https://www.wikipedia.org\")\n",
    "type(response)"
   ],
   "metadata": {
    "collapsed": false,
    "pycharm": {
     "name": "#%%\n"
    }
   }
  },
  {
   "cell_type": "code",
   "execution_count": 5,
   "outputs": [
    {
     "data": {
      "text/plain": "['__abstractmethods__',\n '__class__',\n '__del__',\n '__delattr__',\n '__dict__',\n '__dir__',\n '__doc__',\n '__enter__',\n '__eq__',\n '__exit__',\n '__format__',\n '__ge__',\n '__getattribute__',\n '__gt__',\n '__hash__',\n '__init__',\n '__init_subclass__',\n '__iter__',\n '__le__',\n '__lt__',\n '__module__',\n '__ne__',\n '__new__',\n '__next__',\n '__reduce__',\n '__reduce_ex__',\n '__repr__',\n '__setattr__',\n '__sizeof__',\n '__str__',\n '__subclasshook__',\n '_abc_impl',\n '_checkClosed',\n '_checkReadable',\n '_checkSeekable',\n '_checkWritable',\n '_check_close',\n '_close_conn',\n '_get_chunk_left',\n '_method',\n '_peek_chunked',\n '_read1_chunked',\n '_read_and_discard_trailer',\n '_read_next_chunk_size',\n '_read_status',\n '_readall_chunked',\n '_readinto_chunked',\n '_safe_read',\n '_safe_readinto',\n 'begin',\n 'chunk_left',\n 'chunked',\n 'close',\n 'closed',\n 'code',\n 'debuglevel',\n 'detach',\n 'fileno',\n 'flush',\n 'fp',\n 'getcode',\n 'getheader',\n 'getheaders',\n 'geturl',\n 'headers',\n 'info',\n 'isatty',\n 'isclosed',\n 'length',\n 'msg',\n 'peek',\n 'read',\n 'read1',\n 'readable',\n 'readinto',\n 'readinto1',\n 'readline',\n 'readlines',\n 'reason',\n 'seek',\n 'seekable',\n 'status',\n 'tell',\n 'truncate',\n 'url',\n 'version',\n 'will_close',\n 'writable',\n 'write',\n 'writelines']"
     },
     "execution_count": 5,
     "metadata": {},
     "output_type": "execute_result"
    }
   ],
   "source": [
    "dir(response)"
   ],
   "metadata": {
    "collapsed": false,
    "pycharm": {
     "name": "#%%\n"
    }
   }
  },
  {
   "cell_type": "code",
   "execution_count": 8,
   "outputs": [
    {
     "data": {
      "text/plain": "b'<!DOCTYPE html>\\n<html lang=\"mul\" class=\"no-js\">\\n<head>\\n<meta charset=\"utf-8\">\\n<title>Wikipedia</title>\\n<meta name=\"description\" content=\"Wikipedia is a free online encyclopedia, created and edited by volunteers around the world and hosted by the Wikimedia Foundation.\">\\n<script>\\ndocument.documentElement.className = document.documentElement.className.replace( /(^|\\\\s)no-js(\\\\s|$)/, \"$1js-enabled$2\" );\\n</script>\\n<meta name=\"viewport\" content=\"initial-scale=1,user-scalable=yes\">\\n<link rel=\"apple-touch-icon\" href=\"/static/apple-touch/wikipedia.png\">\\n<link rel=\"shortcut icon\" href=\"/static/favicon/wikipedia.ico\">\\n<link rel=\"license\" href=\"//creativecommons.org/licenses/by-sa/3.0/\">\\n<style>\\n.sprite{background-image:url(portal/wikipedia.org/assets/img/sprite-46c49284.png);background-image:linear-gradient(transparent,transparent),url(portal/wikipedia.org/assets/img/sprite-46c49284.svg);background-repeat:no-repeat;display:inline-block;vertical-align:middle}.svg-Commons-logo_sister{background-position:0 0;width:47px;height:47px}.svg-MediaWiki-logo_sister{background-position:0 -47px;width:42px;height:42px}.svg-Meta-Wiki-logo_sister{background-position:0 -89px;width:37px;height:37px}.svg-Wikibooks-logo_sister{background-position:0 -126px;width:37px;height:37px}.svg-Wikidata-logo_sister{background-position:0 -163px;width:49px;height:49px}.svg-Wikimedia-logo_black{background-position:0 -212px;width:42px;height:42px}.svg-Wikipedia_wordmark{background-position:0 -254px;width:176px;height:32px}.svg-Wikiquote-logo_sister{background-position:0 -286px;width:42px;height:42px}.svg-Wikisource-logo_sister{background-position:0 -328px;width:39px;height:39px}.svg-Wikispecies-logo_sister{background-position:0 -367px;width:42px;height:42px}.svg-Wikiversity-logo_sister{background-position:0 -409px;width:43px;height:37px}.svg-Wikivoyage-logo_sister{background-position:0 -446px;width:36px;height:36px}.svg-Wiktionary-logo_sister{background-position:0 -482px;width:37px;height:37px}.svg-arrow-down{background-position:0 -519px;width:12px;height:8px}.svg-arrow-down-blue{background-position:0 -527px;width:14px;height:14px}.svg-badge_google_play_store{background-position:0 -541px;width:124px;height:38px}.svg-badge_ios_app_store{background-position:0 -579px;width:110px;height:38px}.svg-language-icon{background-position:0 -617px;width:22px;height:22px}.svg-noimage{background-position:0 -639px;width:58px;height:58px}.svg-search-icon{background-position:0 -697px;width:22px;height:22px}.svg-wikipedia_app_tile{background-position:0 -719px;width:42px;height:42px}\\n</style>\\n<style>\\nhtml{font-family:sans-serif;-ms-text-size-adjust:100%;-webkit-text-size-adjust:100%;font-size:62.5%}body{margin:0}article,aside,details,figcaption,figure,footer,header,hgroup,main,menu,nav,section,summary{display:block}audio,canvas,progress,video{display:inline-block;vertical-align:baseline}audio:not([controls]){display:none;height:0}[hidden],template{display:none}a{background-color:transparent}a:active,a:hover{outline:0}abbr[title]{border-bottom:1px dotted}b,strong{font-weight:700}dfn{font-style:italic}h1{font-size:32px;font-size:3.2rem;margin:12px 0;margin:1.2rem 0}mark{background:#fc3;color:#000}small{font-size:13px;font-size:1.3rem}sub,sup{font-size:75%;line-height:0;position:relative;vertical-align:baseline}sup{top:-.5em}sub{bottom:-.25em}svg:not(:root){overflow:hidden}figure{margin:16px 40px;margin:1.6rem 4rem}hr{box-sizing:content-box}pre{overflow:auto}code,kbd,pre,samp{font-family:monospace,monospace;font-size:14px;font-size:1.4rem}button,input,optgroup,select,textarea{color:inherit;font:inherit;margin:0}button{overflow:visible}button,select{text-transform:none}button,html input[type=button],input[type=reset],input[type=submit]{-webkit-appearance:button;cursor:pointer}button[disabled],html input[disabled]{cursor:default}button::-moz-focus-inner,input::-moz-focus-inner{border:0;padding:0}input{line-height:normal}input[type=checkbox],input[type=radio]{box-sizing:border-box;padding:0}input[type=number]::-webkit-inner-spin-button,input[type=number]::-webkit-outer-spin-button{height:auto}input[type=search]{-webkit-appearance:none;box-sizing:content-box}input[type=search]::-webkit-search-cancel-button,input[type=search]::-webkit-search-decoration{-webkit-appearance:none}input[type=search]:focus{outline-offset:-2px}fieldset{border:1px solid #a2a9b1;margin:0 2px;margin:0 .2rem;padding:6px 10px 12px;padding:.6rem 1rem 1.2rem}legend{border:0;padding:0}textarea{overflow:auto}optgroup{font-weight:700}table{border-collapse:collapse;border-spacing:0}td,th{padding:0}.hidden,[hidden]{display:none!important}.screen-reader-text{display:block;position:absolute!important;clip:rect(1px,1px,1px,1px);width:1px;height:1px;margin:-1px;border:0;padding:0;overflow:hidden}body{background-color:#fff;font-family:-apple-system,BlinkMacSystemFont,Segoe UI,Roboto,Lato,Helvetica,Arial,sans-serif;font-size:14px;font-size:1.4rem;line-height:1.5;margin:4px 0 16px;margin:.4rem 0 1.6rem}a{-ms-touch-action:manipulation;touch-action:manipulation}a,a:active,a:focus{unicode-bidi:embed;outline:0;color:#36c;text-decoration:none}a:focus{outline:1px solid #36c}a:hover{text-decoration:underline}img{vertical-align:middle}hr,img{border:0}hr{clear:both;height:0;border-bottom:1px solid #c8ccd1;margin:2.6px 13px;margin:.26rem 1.3rem}.pure-button{display:inline-block;zoom:1;line-height:normal;white-space:nowrap;text-align:center;cursor:pointer;-webkit-user-drag:none;-webkit-user-select:none;-moz-user-select:none;-ms-user-select:none;user-select:none;box-sizing:border-box;background-color:#f8f9fa;color:#202122;position:relative;min-height:19.2px;min-height:1.92rem;min-width:16px;min-width:1.6rem;margin:1.6px 0;margin:.16rem 0;border:1px solid #a2a9b1;border-radius:2px;padding:8px 16px;padding:.8rem 1.6rem;font-family:inherit;font-size:inherit;font-weight:700;text-decoration:none;vertical-align:top;transition:background .1s ease,color .1s ease,border-color .1s ease,box-shadow .1s ease}.pure-button::-moz-focus-inner{padding:0;border:0}.pure-button-hover,.pure-button:hover{background-color:#fff;border-color:#a2a9b1;color:#404244}.pure-button-active,.pure-button:active{background-color:#c8ccd1;border-color:#72777d;color:#000}.pure-button:focus{outline:0;border-color:#36c;box-shadow:inset 0 0 0 1px #36c}.pure-button-primary-progressive{background-color:#36c;border-color:#36c;color:#fff}.pure-button-primary-progressive:hover{background:#447ff5;border-color:#447ff5}.pure-button-primary-progressive:active{background-color:#2a4b8d;border-color:#2a4b8d;box-shadow:none;color:#fff}.pure-button-primary-progressive:focus{box-shadow:inset 0 0 0 1px #36c,inset 0 0 0 2px #fff;border-color:#36c}.pure-form input[type=search]{background-color:#fff;display:inline-block;box-sizing:border-box;border:1px solid #a2a9b1;bor'"
     },
     "execution_count": 8,
     "metadata": {},
     "output_type": "execute_result"
    }
   ],
   "source": [
    "response.code\n",
    "response.length\n",
    "response.peek()"
   ],
   "metadata": {
    "collapsed": false,
    "pycharm": {
     "name": "#%%\n"
    }
   }
  },
  {
   "cell_type": "code",
   "execution_count": 9,
   "outputs": [
    {
     "data": {
      "text/plain": "bytes"
     },
     "execution_count": 9,
     "metadata": {},
     "output_type": "execute_result"
    }
   ],
   "source": [
    "data = response.read()\n",
    "type(data)"
   ],
   "metadata": {
    "collapsed": false,
    "pycharm": {
     "name": "#%%\n"
    }
   }
  },
  {
   "cell_type": "code",
   "execution_count": 10,
   "outputs": [
    {
     "data": {
      "text/plain": "72306"
     },
     "execution_count": 10,
     "metadata": {},
     "output_type": "execute_result"
    }
   ],
   "source": [
    "len(data)"
   ],
   "metadata": {
    "collapsed": false,
    "pycharm": {
     "name": "#%%\n"
    }
   }
  },
  {
   "cell_type": "code",
   "execution_count": 11,
   "outputs": [],
   "source": [
    "html = data.decode(\"UTF-8\")"
   ],
   "metadata": {
    "collapsed": false,
    "pycharm": {
     "name": "#%%\n"
    }
   }
  },
  {
   "cell_type": "code",
   "execution_count": null,
   "outputs": [],
   "source": [],
   "metadata": {
    "collapsed": false,
    "pycharm": {
     "name": "#%%\n"
    }
   }
  }
 ],
 "metadata": {
  "kernelspec": {
   "display_name": "Python 3",
   "language": "python",
   "name": "python3"
  },
  "language_info": {
   "codemirror_mode": {
    "name": "ipython",
    "version": 2
   },
   "file_extension": ".py",
   "mimetype": "text/x-python",
   "name": "python",
   "nbconvert_exporter": "python",
   "pygments_lexer": "ipython2",
   "version": "2.7.6"
  }
 },
 "nbformat": 4,
 "nbformat_minor": 0
}