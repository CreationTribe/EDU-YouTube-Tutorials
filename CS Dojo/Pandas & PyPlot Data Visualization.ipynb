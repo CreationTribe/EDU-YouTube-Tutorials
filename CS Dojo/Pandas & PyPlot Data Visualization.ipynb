{
 "cells": [
  {
   "cell_type": "markdown",
   "source": [
    "# CS Dojo\n",
    "## Intro to Data Analysis / Visualization with Python, Matplotlib and Pandas | Matplotlib Tutorial\n",
    "\n",
    "[YouTube Tutorial](https://www.youtube.com/watch?v=a9UrKTVEeZA)"
   ],
   "metadata": {
    "collapsed": false,
    "pycharm": {
     "name": "#%% md\n"
    }
   }
  },
  {
   "cell_type": "markdown",
   "metadata": {
    "collapsed": true,
    "pycharm": {
     "name": "#%% md\n"
    }
   },
   "source": [
    "### Samples Analysis"
   ]
  },
  {
   "cell_type": "code",
   "execution_count": null,
   "outputs": [],
   "source": [
    "import pandas as pan\n",
    "from matplotlib import pyplot as plt\n",
    "\n",
    "x =  [1, 2, 3]\n",
    "y =  [1, 4, 9]\n",
    "z =  [10, 5, 0]\n",
    "\n",
    "plt.plot(x, y)\n",
    "plt.plot(x, z)\n",
    "plt.plot(y, z)\n",
    "\n",
    "plt.title = 'Test Plot'\n",
    "plt.xlabel('x, x, and y')\n",
    "plt.ylabel('y, z, and z')\n",
    "\n",
    "plt.legend([\"This is Y\", \"This is Z\", \"This is Z(Y)\"])\n",
    "\n",
    "plt.show()"
   ],
   "metadata": {
    "collapsed": false,
    "pycharm": {
     "name": "#%%\n"
    }
   }
  },
  {
   "cell_type": "code",
   "execution_count": 2,
   "outputs": [
    {
     "data": {
      "text/plain": "   column_a  column_b  column_c\n0         1         1        10\n1         2         4         8\n2         3         9         6\n3         4        16         4\n4         5        25         2",
      "text/html": "<div>\n<style scoped>\n    .dataframe tbody tr th:only-of-type {\n        vertical-align: middle;\n    }\n\n    .dataframe tbody tr th {\n        vertical-align: top;\n    }\n\n    .dataframe thead th {\n        text-align: right;\n    }\n</style>\n<table border=\"1\" class=\"dataframe\">\n  <thead>\n    <tr style=\"text-align: right;\">\n      <th></th>\n      <th>column_a</th>\n      <th>column_b</th>\n      <th>column_c</th>\n    </tr>\n  </thead>\n  <tbody>\n    <tr>\n      <th>0</th>\n      <td>1</td>\n      <td>1</td>\n      <td>10</td>\n    </tr>\n    <tr>\n      <th>1</th>\n      <td>2</td>\n      <td>4</td>\n      <td>8</td>\n    </tr>\n    <tr>\n      <th>2</th>\n      <td>3</td>\n      <td>9</td>\n      <td>6</td>\n    </tr>\n    <tr>\n      <th>3</th>\n      <td>4</td>\n      <td>16</td>\n      <td>4</td>\n    </tr>\n    <tr>\n      <th>4</th>\n      <td>5</td>\n      <td>25</td>\n      <td>2</td>\n    </tr>\n  </tbody>\n</table>\n</div>"
     },
     "execution_count": 2,
     "metadata": {},
     "output_type": "execute_result"
    }
   ],
   "source": [
    "# read from CSV file\n",
    "samples = pan.read_csv('data/sample_data.csv')\n",
    "samples"
   ],
   "metadata": {
    "collapsed": false,
    "pycharm": {
     "name": "#%%\n"
    }
   }
  },
  {
   "cell_type": "code",
   "execution_count": 3,
   "outputs": [
    {
     "data": {
      "text/plain": "pandas.core.frame.DataFrame"
     },
     "execution_count": 3,
     "metadata": {},
     "output_type": "execute_result"
    }
   ],
   "source": [
    "type(samples)"
   ],
   "metadata": {
    "collapsed": false,
    "pycharm": {
     "name": "#%%\n"
    }
   }
  },
  {
   "cell_type": "code",
   "execution_count": 4,
   "outputs": [
    {
     "data": {
      "text/plain": "10"
     },
     "execution_count": 4,
     "metadata": {},
     "output_type": "execute_result"
    }
   ],
   "source": [
    "samples.column_c.iloc[0]"
   ],
   "metadata": {
    "collapsed": false,
    "pycharm": {
     "name": "#%%\n"
    }
   }
  },
  {
   "cell_type": "code",
   "execution_count": null,
   "outputs": [],
   "source": [
    "plt.plot(samples.column_a, samples.column_b, samples.column_c)\n",
    "plt.show()"
   ],
   "metadata": {
    "collapsed": false,
    "pycharm": {
     "name": "#%%\n"
    }
   }
  },
  {
   "cell_type": "code",
   "execution_count": 14,
   "outputs": [
    {
     "data": {
      "text/plain": "<Figure size 432x288 with 1 Axes>",
      "image/png": "[encoded data removed]"
     },
     "metadata": {
      "needs_background": "light"
     },
     "output_type": "display_data"
    }
   ],
   "source": [
    "plt.plot(samples.column_a, samples.column_b, 'x')\n",
    "plt.plot(samples.column_a, samples.column_c, '1')\n",
    "plt.plot(samples.column_a, samples.column_a, '-')\n",
    "plt.plot(samples.column_b, samples.column_a, '2')\n",
    "plt.plot(samples.column_b, samples.column_c, '3')\n",
    "plt.plot(samples.column_b, samples.column_b, '_')\n",
    "plt.plot(samples.column_c, samples.column_a, '4')\n",
    "plt.plot(samples.column_c, samples.column_b, 'o')\n",
    "plt.plot(samples.column_c, samples.column_c, 'v')\n",
    "plt.show()"
   ],
   "metadata": {
    "collapsed": false,
    "pycharm": {
     "name": "#%%\n"
    }
   }
  },
  {
   "cell_type": "markdown",
   "source": [
    "### Countries Analysis"
   ],
   "metadata": {
    "collapsed": false,
    "pycharm": {
     "name": "#%% md\n"
    }
   }
  },
  {
   "cell_type": "code",
   "execution_count": 15,
   "outputs": [
    {
     "data": {
      "text/plain": "          country  year  population\n0     Afghanistan  1952     8425333\n1     Afghanistan  1957     9240934\n2     Afghanistan  1962    10267083\n3     Afghanistan  1967    11537966\n4     Afghanistan  1972    13079460\n...           ...   ...         ...\n1699     Zimbabwe  1987     9216418\n1700     Zimbabwe  1992    10704340\n1701     Zimbabwe  1997    11404948\n1702     Zimbabwe  2002    11926563\n1703     Zimbabwe  2007    12311143\n\n[1704 rows x 3 columns]",
      "text/html": "<div>\n<style scoped>\n    .dataframe tbody tr th:only-of-type {\n        vertical-align: middle;\n    }\n\n    .dataframe tbody tr th {\n        vertical-align: top;\n    }\n\n    .dataframe thead th {\n        text-align: right;\n    }\n</style>\n<table border=\"1\" class=\"dataframe\">\n  <thead>\n    <tr style=\"text-align: right;\">\n      <th></th>\n      <th>country</th>\n      <th>year</th>\n      <th>population</th>\n    </tr>\n  </thead>\n  <tbody>\n    <tr>\n      <th>0</th>\n      <td>Afghanistan</td>\n      <td>1952</td>\n      <td>8425333</td>\n    </tr>\n    <tr>\n      <th>1</th>\n      <td>Afghanistan</td>\n      <td>1957</td>\n      <td>9240934</td>\n    </tr>\n    <tr>\n      <th>2</th>\n      <td>Afghanistan</td>\n      <td>1962</td>\n      <td>10267083</td>\n    </tr>\n    <tr>\n      <th>3</th>\n      <td>Afghanistan</td>\n      <td>1967</td>\n      <td>11537966</td>\n    </tr>\n    <tr>\n      <th>4</th>\n      <td>Afghanistan</td>\n      <td>1972</td>\n      <td>13079460</td>\n    </tr>\n    <tr>\n      <th>...</th>\n      <td>...</td>\n      <td>...</td>\n      <td>...</td>\n    </tr>\n    <tr>\n      <th>1699</th>\n      <td>Zimbabwe</td>\n      <td>1987</td>\n      <td>9216418</td>\n    </tr>\n    <tr>\n      <th>1700</th>\n      <td>Zimbabwe</td>\n      <td>1992</td>\n      <td>10704340</td>\n    </tr>\n    <tr>\n      <th>1701</th>\n      <td>Zimbabwe</td>\n      <td>1997</td>\n      <td>11404948</td>\n    </tr>\n    <tr>\n      <th>1702</th>\n      <td>Zimbabwe</td>\n      <td>2002</td>\n      <td>11926563</td>\n    </tr>\n    <tr>\n      <th>1703</th>\n      <td>Zimbabwe</td>\n      <td>2007</td>\n      <td>12311143</td>\n    </tr>\n  </tbody>\n</table>\n<p>1704 rows × 3 columns</p>\n</div>"
     },
     "execution_count": 15,
     "metadata": {},
     "output_type": "execute_result"
    }
   ],
   "source": [
    "cdata = pan.read_csv(\"data/countries.csv\")\n",
    "cdata"
   ],
   "metadata": {
    "collapsed": false,
    "pycharm": {
     "name": "#%%\n"
    }
   }
  },
  {
   "cell_type": "code",
   "execution_count": 20,
   "outputs": [
    {
     "data": {
      "text/plain": "0       False\n1       False\n2       False\n3       False\n4       False\n        ...  \n1699    False\n1700    False\n1701    False\n1702    False\n1703    False\nName: country, Length: 1704, dtype: bool"
     },
     "execution_count": 20,
     "metadata": {},
     "output_type": "execute_result"
    }
   ],
   "source": [
    "cdata.country == 'United States'"
   ],
   "metadata": {
    "collapsed": false,
    "pycharm": {
     "name": "#%%\n"
    }
   }
  },
  {
   "cell_type": "code",
   "execution_count": null,
   "outputs": [],
   "source": [
    "us = cdata[cdata.country == 'United States']\n",
    "us"
   ],
   "metadata": {
    "collapsed": false,
    "pycharm": {
     "name": "#%%\n"
    }
   }
  },
  {
   "cell_type": "code",
   "execution_count": 22,
   "outputs": [
    {
     "data": {
      "text/plain": "    country  year  population\n288   China  1952   556263527\n289   China  1957   637408000\n290   China  1962   665770000\n291   China  1967   754550000\n292   China  1972   862030000\n293   China  1977   943455000\n294   China  1982  1000281000\n295   China  1987  1084035000\n296   China  1992  1164970000\n297   China  1997  1230075000\n298   China  2002  1280400000\n299   China  2007  1318683096",
      "text/html": "<div>\n<style scoped>\n    .dataframe tbody tr th:only-of-type {\n        vertical-align: middle;\n    }\n\n    .dataframe tbody tr th {\n        vertical-align: top;\n    }\n\n    .dataframe thead th {\n        text-align: right;\n    }\n</style>\n<table border=\"1\" class=\"dataframe\">\n  <thead>\n    <tr style=\"text-align: right;\">\n      <th></th>\n      <th>country</th>\n      <th>year</th>\n      <th>population</th>\n    </tr>\n  </thead>\n  <tbody>\n    <tr>\n      <th>288</th>\n      <td>China</td>\n      <td>1952</td>\n      <td>556263527</td>\n    </tr>\n    <tr>\n      <th>289</th>\n      <td>China</td>\n      <td>1957</td>\n      <td>637408000</td>\n    </tr>\n    <tr>\n      <th>290</th>\n      <td>China</td>\n      <td>1962</td>\n      <td>665770000</td>\n    </tr>\n    <tr>\n      <th>291</th>\n      <td>China</td>\n      <td>1967</td>\n      <td>754550000</td>\n    </tr>\n    <tr>\n      <th>292</th>\n      <td>China</td>\n      <td>1972</td>\n      <td>862030000</td>\n    </tr>\n    <tr>\n      <th>293</th>\n      <td>China</td>\n      <td>1977</td>\n      <td>943455000</td>\n    </tr>\n    <tr>\n      <th>294</th>\n      <td>China</td>\n      <td>1982</td>\n      <td>1000281000</td>\n    </tr>\n    <tr>\n      <th>295</th>\n      <td>China</td>\n      <td>1987</td>\n      <td>1084035000</td>\n    </tr>\n    <tr>\n      <th>296</th>\n      <td>China</td>\n      <td>1992</td>\n      <td>1164970000</td>\n    </tr>\n    <tr>\n      <th>297</th>\n      <td>China</td>\n      <td>1997</td>\n      <td>1230075000</td>\n    </tr>\n    <tr>\n      <th>298</th>\n      <td>China</td>\n      <td>2002</td>\n      <td>1280400000</td>\n    </tr>\n    <tr>\n      <th>299</th>\n      <td>China</td>\n      <td>2007</td>\n      <td>1318683096</td>\n    </tr>\n  </tbody>\n</table>\n</div>"
     },
     "execution_count": 22,
     "metadata": {},
     "output_type": "execute_result"
    }
   ],
   "source": [
    "ch = cdata[cdata.country == 'China']\n",
    "ch"
   ],
   "metadata": {
    "collapsed": false,
    "pycharm": {
     "name": "#%%\n"
    }
   }
  },
  {
   "cell_type": "code",
   "execution_count": 27,
   "outputs": [
    {
     "data": {
      "text/plain": "<Figure size 432x288 with 1 Axes>",
      "image/png": "[encoded data removed]"
     },
     "metadata": {
      "needs_background": "light"
     },
     "output_type": "display_data"
    }
   ],
   "source": [
    "plt.plot(us.year, us.population / 10**6)\n",
    "plt.plot(ch.year, ch.population / 10**6)\n",
    "\n",
    "plt.legend(['United States', 'China'])\n",
    "\n",
    "plt.xlabel('Year')\n",
    "plt.ylabel('Population')\n",
    "\n",
    "plt.show()"
   ],
   "metadata": {
    "collapsed": false,
    "pycharm": {
     "name": "#%%\n"
    }
   }
  },
  {
   "cell_type": "code",
   "execution_count": 30,
   "outputs": [
    {
     "data": {
      "text/plain": "1608    100.000000\n1609    109.159457\n1610    118.396984\n1611    126.123908\n1612    133.222471\n1613    139.787246\n1614    147.371256\n1615    154.109114\n1616    163.052553\n1617    173.219018\n1618    182.589685\n1619    191.135648\nName: population, dtype: float64"
     },
     "execution_count": 30,
     "metadata": {},
     "output_type": "execute_result"
    }
   ],
   "source": [
    "us.population / us.population.iloc[0] * 100"
   ],
   "metadata": {
    "collapsed": false,
    "pycharm": {
     "name": "#%%\n"
    }
   }
  },
  {
   "cell_type": "code",
   "execution_count": 32,
   "outputs": [
    {
     "data": {
      "text/plain": "<Figure size 432x288 with 1 Axes>",
      "image/png": "[encoded data removed]"
     },
     "metadata": {
      "needs_background": "light"
     },
     "output_type": "display_data"
    }
   ],
   "source": [
    "plt.plot(us.year, us.population / us.population.iloc[0] * 100)\n",
    "plt.plot(ch.year, ch.population / ch.population.iloc[0] * 100)\n",
    "\n",
    "plt.legend(['United States', 'China'])\n",
    "\n",
    "plt.xlabel('Year')\n",
    "plt.ylabel('Population Growth (first year 100)')\n",
    "\n",
    "plt.show()"
   ],
   "metadata": {
    "collapsed": false,
    "pycharm": {
     "name": "#%%\n"
    }
   }
  },
  {
   "cell_type": "code",
   "execution_count": null,
   "outputs": [],
   "source": [],
   "metadata": {
    "collapsed": false,
    "pycharm": {
     "name": "#%%\n"
    }
   }
  }
 ],
 "metadata": {
  "kernelspec": {
   "display_name": "Python 3",
   "language": "python",
   "name": "python3"
  },
  "language_info": {
   "codemirror_mode": {
    "name": "ipython",
    "version": 2
   },
   "file_extension": ".py",
   "mimetype": "text/x-python",
   "name": "python",
   "nbconvert_exporter": "python",
   "pygments_lexer": "ipython2",
   "version": "2.7.6"
  }
 },
 "nbformat": 4,
 "nbformat_minor": 0
}